{
  "nbformat": 4,
  "nbformat_minor": 0,
  "metadata": {
    "colab": {
      "name": "Week  2 ip core.ipynb",
      "private_outputs": true,
      "provenance": [],
      "authorship_tag": "ABX9TyNZ/P+Q2amuv61ANba7ejil",
      "include_colab_link": true
    },
    "kernelspec": {
      "name": "python3",
      "display_name": "Python 3"
    },
    "language_info": {
      "name": "python"
    }
  },
  "cells": [
    {
      "cell_type": "markdown",
      "metadata": {
        "id": "view-in-github",
        "colab_type": "text"
      },
      "source": [
        "<a href=\"https://colab.research.google.com/github/emmanueltiti/WEEK-2-CORE-IP/blob/main/Week_2_ip_core.ipynb\" target=\"_parent\"><img src=\"https://colab.research.google.com/assets/colab-badge.svg\" alt=\"Open In Colab\"/></a>"
      ]
    },
    {
      "cell_type": "code",
      "execution_count": null,
      "metadata": {
        "id": "J65R153R5vio"
      },
      "outputs": [],
      "source": [
        "import pandas as pd \n",
        "import numpy as np \n",
        "import seaborn as sns\n",
        "import matplotlib.pyplot as plt\n",
        "\n",
        "\n",
        "#we can hence start by loading our data set and preview it\n",
        "df=pd.read_csv('http://bit.ly/FinancialDataset')\n",
        "df.head()"
      ]
    },
    {
      "cell_type": "code",
      "source": [
        "df.tail()"
      ],
      "metadata": {
        "id": "63UtYd8p6o2f"
      },
      "execution_count": null,
      "outputs": []
    },
    {
      "cell_type": "code",
      "source": [
        "df.dtypes"
      ],
      "metadata": {
        "id": "YJ0311l98ZHF"
      },
      "execution_count": null,
      "outputs": []
    },
    {
      "cell_type": "code",
      "source": [
        "#we change the year cplumn to a date time data type\n",
        "df['year'] = df.year.map(lambda x: pd.to_datetime(f'2018'))\n",
        "df.dtypes\n"
      ],
      "metadata": {
        "id": "JdVqLPcJBiS_"
      },
      "execution_count": null,
      "outputs": []
    },
    {
      "cell_type": "code",
      "source": [
        "#we can now find our basic numerical info for out numerical columns\n",
        "df.describe()"
      ],
      "metadata": {
        "id": "hFQ3ptp8B2Yr"
      },
      "execution_count": null,
      "outputs": []
    },
    {
      "cell_type": "code",
      "source": [
        "#we can check for the number of  null values in  every column of our dataset\n",
        "df.isnull().sum()"
      ],
      "metadata": {
        "id": "VLC2zNnZDJqc"
      },
      "execution_count": null,
      "outputs": []
    },
    {
      "cell_type": "code",
      "source": [
        "#To deal with the null values first by interpolating the null values in the numerical columns\n",
        "df.interpolate()\n",
        "#and drop the remaining rows with null values  which is a very small number and the remaining data is still sizeable for analysis\n",
        "df1=df.dropna(how='any')\n",
        "df1.isnull().sum()\n"
      ],
      "metadata": {
        "id": "zDQom8SPDmsF"
      },
      "execution_count": null,
      "outputs": []
    },
    {
      "cell_type": "markdown",
      "source": [
        "Since we are trying to predict people likely to have bank accounts we could filter out individual data with no bank acounts and focus on individuals with accounts.We can then find hidden insigts and relationships between the different variables ."
      ],
      "metadata": {
        "id": "0O_FEhn1P5J1"
      }
    },
    {
      "cell_type": "code",
      "source": [
        "#Lets call thedataframe df2\n",
        "df2=df1.loc[df1['Has a Bank account'] == \"Yes\"]\n",
        "df2.head()"
      ],
      "metadata": {
        "id": "ixjQHOLCP4W7"
      },
      "execution_count": null,
      "outputs": []
    },
    {
      "cell_type": "markdown",
      "source": [
        "**Outliers**"
      ],
      "metadata": {
        "id": "d33He12cYfgh"
      }
    },
    {
      "cell_type": "code",
      "source": [
        "#We could use box plots to see id out numerical variables have outliers\n",
        "sns.boxplot(x=df2['household_size'])"
      ],
      "metadata": {
        "id": "-MzT6RnXYpkd"
      },
      "execution_count": null,
      "outputs": []
    },
    {
      "cell_type": "code",
      "source": [
        "sns.boxplot(x=df2['Respondent Age'])\n"
      ],
      "metadata": {
        "id": "yq668bvjv6LY"
      },
      "execution_count": null,
      "outputs": []
    },
    {
      "cell_type": "code",
      "source": [
        "# we can write code to clear the otliers we had in this case\n",
        "df3=df2.loc[df2['Respondent Age'] <75.0] \n",
        "df3.head()"
      ],
      "metadata": {
        "id": "1HIGs2UyyMO8"
      },
      "execution_count": null,
      "outputs": []
    },
    {
      "cell_type": "code",
      "source": [
        "#removing outliers for household_size\n",
        "df4=df3.loc[df3['household_size']<10.0]\n",
        "df4.shape"
      ],
      "metadata": {
        "id": "SFsxhTEIinLp"
      },
      "execution_count": null,
      "outputs": []
    },
    {
      "cell_type": "code",
      "source": [
        "df2.shape\n",
        "#very few rows have been lost "
      ],
      "metadata": {
        "id": "r70kvSdUkMZT"
      },
      "execution_count": null,
      "outputs": []
    },
    {
      "cell_type": "markdown",
      "source": [
        "**Problem question**"
      ],
      "metadata": {
        "id": "zROPRpgKutm1"
      }
    },
    {
      "cell_type": "markdown",
      "source": [
        "Our analysis should hel us determine the probability that aselected individual has a bank account this can be done by establishing the following \n",
        " \n",
        "\n",
        "1.   Which gender has individuals with most account\n",
        "2.   Which age group has individuals with mist accounts\n",
        "3.   How does number of family vary members vary with the ability to hold an account\n",
        "4.   How the types of jobs influence ability to have an account\n",
        "\n"
      ],
      "metadata": {
        "id": "O4ALRd-Xu7Zi"
      }
    },
    {
      "cell_type": "markdown",
      "source": [
        "**Univariant Analysis**"
      ],
      "metadata": {
        "id": "xbccL5rhkrQY"
      }
    },
    {
      "cell_type": "code",
      "source": [
        "#here we can see individual insights from the given variable \n",
        "\n",
        "sns.countplot(df4['gender_of_respondent'])\n",
        "plt.show()\n",
        "#we see that more males have accounts as compare to women "
      ],
      "metadata": {
        "id": "n1rw7b6Mkbi9"
      },
      "execution_count": null,
      "outputs": []
    },
    {
      "cell_type": "code",
      "source": [
        "ax=sns.countplot(df4['Type of Job'])\n",
        "ax.set_xticklabels(ax.get_xticklabels(), rotation=40, ha=\"right\")\n",
        "plt.tight_layout()\n",
        "plt.show"
      ],
      "metadata": {
        "id": "8lJ_7Wxel314"
      },
      "execution_count": null,
      "outputs": []
    },
    {
      "cell_type": "code",
      "source": [
        "df4.describe()"
      ],
      "metadata": {
        "id": "rLuijc9im63a"
      },
      "execution_count": null,
      "outputs": []
    },
    {
      "cell_type": "code",
      "source": [
        "#we can calculate our range \n",
        "##for household size \n",
        "print((df4.household_size.max())-(df4.household_size.min()))\n",
        "print((df4['Respondent Age'].max())-(df4['Respondent Age'].min()))\n",
        "\n"
      ],
      "metadata": {
        "id": "zJYGVk6VQfVm"
      },
      "execution_count": null,
      "outputs": []
    },
    {
      "cell_type": "code",
      "source": [
        "\n",
        "#interquatile range\n",
        "##household sizw \n",
        "print((df4.household_size.quantile(.75))-(df4.household_size.quantile(.25)))\n",
        "print((df4['Respondent Age'].quantile(.75))-(df4['Respondent Age'].quantile(.25)))\n"
      ],
      "metadata": {
        "id": "f3MyTKrjVdY0"
      },
      "execution_count": null,
      "outputs": []
    },
    {
      "cell_type": "code",
      "source": [
        "#STANDARD DEVIATION \n",
        "print(df4['Respondent Age'].std())\n",
        "print(df4.household_size.std())\n"
      ],
      "metadata": {
        "id": "438flQ0_XHpO"
      },
      "execution_count": null,
      "outputs": []
    },
    {
      "cell_type": "code",
      "source": [
        "from scipy.stats import kurtosis,skew\n",
        "print(skew(df4.household_size,bias=False))\n",
        "print(skew(df4['Respondent Age'],bias=False))\n",
        "##both of our numerical variable distributions are right skewed"
      ],
      "metadata": {
        "id": "ZU1E0N_gXuyr"
      },
      "execution_count": null,
      "outputs": []
    },
    {
      "cell_type": "code",
      "source": [
        "#kurtosis\n",
        "print(kurtosis(df4.household_size,bias=False))\n",
        "print(kurtosis(df4['Respondent Age'],bias=False))\n"
      ],
      "metadata": {
        "id": "ofemd10SbTws"
      },
      "execution_count": null,
      "outputs": []
    },
    {
      "cell_type": "markdown",
      "source": [
        "**Bivariate Analysis**"
      ],
      "metadata": {
        "id": "18KW-HHEdrTE"
      }
    },
    {
      "cell_type": "code",
      "source": [
        "sns.pairplot(df4)\n",
        "plt.show()\n",
        "#the plot below clearly indicates there is no definate relationship between our two numerival variables ,were our independent  variable \n",
        "#numeric our scatterplot would be more resourcefull"
      ],
      "metadata": {
        "id": "jMUdDEEYLCNJ"
      },
      "execution_count": null,
      "outputs": []
    },
    {
      "cell_type": "code",
      "source": [
        "df2.corr()\n",
        "#this shows the correlation coeff of the two numerical variables and how they are too low"
      ],
      "metadata": {
        "id": "XLFNxBOBiyhF"
      },
      "execution_count": null,
      "outputs": []
    },
    {
      "cell_type": "code",
      "source": [
        "sns.histplot(data=df1, x='household_size', hue='Has a Bank account', kde=True);\n"
      ],
      "metadata": {
        "id": "1Exwtdq3fwUt"
      },
      "execution_count": null,
      "outputs": []
    },
    {
      "cell_type": "code",
      "source": [
        "sns.histplot(data=df1, x='Respondent Age', hue='Has a Bank account', kde=True);\n",
        "##the graph indicates that  very few pple have accounts \n",
        "#individuals less tham 4o are the largest group in te population majority without accounts \n",
        "#"
      ],
      "metadata": {
        "id": "a9ZWVQLriXPg"
      },
      "execution_count": null,
      "outputs": []
    },
    {
      "cell_type": "markdown",
      "source": [
        "**Multivariant Analysis**"
      ],
      "metadata": {
        "id": "0n1fgD1LEPAW"
      }
    },
    {
      "cell_type": "code",
      "source": [
        "import statsmodels.api as sm\n",
        "from sklearn import preprocessing\n",
        "df5=df1[['Has a Bank account','household_size','Respondent Age']]\n",
        "df5\n"
      ],
      "metadata": {
        "id": "GtEF75DsEOOZ"
      },
      "execution_count": null,
      "outputs": []
    },
    {
      "cell_type": "code",
      "source": [
        "#we can encode the has a bank account column\n",
        "df_dummy=pd.get_dummies(df5['Has a Bank account'])\n",
        "df_dummy=pd.concat([df5, df_dummy],axis=1)\n",
        "df_dummy.drop(['Has a Bank account','No'], inplace=True , axis=1)\n",
        "df_dummy"
      ],
      "metadata": {
        "id": "5OZ48l9EoRXu"
      },
      "execution_count": null,
      "outputs": []
    },
    {
      "cell_type": "code",
      "source": [
        "#we can now run a multivariant analysis on the three numerican variables \n",
        "reg=sm.OLS(df_dummy['Yes'], sm.add_constant(df_dummy[['household_size', 'Respondent Age']])).fit()\n",
        "print(reg.summary())"
      ],
      "metadata": {
        "id": "cULGX_Icsg8X"
      },
      "execution_count": null,
      "outputs": []
    },
    {
      "cell_type": "markdown",
      "source": [
        "**Follow up on the initial experimetation questions**"
      ],
      "metadata": {
        "id": "olFGB-K1xJO3"
      }
    },
    {
      "cell_type": "markdown",
      "source": [
        "From our analysis we see that males have more accounts than females by a diffrence of a bout 11% which is not much.\n",
        "\n",
        "Individuals between our lowest age 16 and 5oyrs of age appear to be the majority interms of account holding whith a the number decreasing steadily after 40 yrs.\n",
        "\n",
        "Individuals from household sizes less that 5 of 3 to be precice seem likely to hold accounts maybe due to the availability of disposable incone due to the loww expenditure\n",
        "\n",
        "Self-employed individueals ,famers and people formarly employed in the private sectors top charts in holding accounts.\n",
        "\n",
        "In summary looking at the results we have ,I can say our data was adequetly fit to provide insights needed to anser our reserch problem.We can therefore say that if an individual choosen at random and falls in atleast tree on the stated groups/categories above is likely to hold a bank account."
      ],
      "metadata": {
        "id": "nMcCNncrxZw6"
      }
    }
  ]
}